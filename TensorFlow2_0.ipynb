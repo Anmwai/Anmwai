{
  "nbformat": 4,
  "nbformat_minor": 0,
  "metadata": {
    "colab": {
      "provenance": [],
      "toc_visible": true,
      "authorship_tag": "ABX9TyNLj64HHT+yZaEe3MEp6LQw",
      "include_colab_link": true
    },
    "kernelspec": {
      "name": "python3",
      "display_name": "Python 3"
    },
    "language_info": {
      "name": "python"
    }
  },
  "cells": [
    {
      "cell_type": "markdown",
      "metadata": {
        "id": "view-in-github",
        "colab_type": "text"
      },
      "source": [
        "<a href=\"https://colab.research.google.com/github/Anmwai/Anmwai/blob/main/TensorFlow2_0.ipynb\" target=\"_parent\"><img src=\"https://colab.research.google.com/assets/colab-badge.svg\" alt=\"Open In Colab\"/></a>"
      ]
    },
    {
      "cell_type": "markdown",
      "source": [
        "# TensorFlow\n",
        "\n",
        "Provides primitives for defining functions on tensors and automatically computing their derivatives.\n",
        "\n",
        "THe learning stage objective is to describe the data, called the feature vector, and smmarize it in a model.\n",
        "\n",
        "A feature vector is a practical simplification of the data\n",
        "TF is used in deep learning and ML\n",
        "Keras is the high level API of TnsorFlow 2.0"
      ],
      "metadata": {
        "id": "UAX0m_NyUWZN"
      }
    },
    {
      "cell_type": "markdown",
      "source": [
        "## A Tensor is a vector or amtrix of n-dimensions that represents all types of data.\n",
        "Tensors are defined by a unit of dimensionlity called as rank.e.g\n",
        "Entity     Rank\n",
        "Scalar - 0\n",
        "Vector - 1\n",
        "Matrix - 2\n",
        "Tensor - 3   \n",
        "\n",
        "\n",
        "Data flow graphs descirbe how the data moves through a graph or a series of processing nodes.\n",
        "\n",
        "Each node represents a mathematical operation and each connection/ edge between the nodes is a multi-dimensional data array/tensor.\n"
      ],
      "metadata": {
        "id": "FEWznj3IWpp_"
      }
    },
    {
      "cell_type": "markdown",
      "source": [
        "# Machine Learning lifeCycle process\n",
        "* Collect a dataset- most work\n",
        "* Build your model - few lines of code\n",
        "* Train the network model- one line code\n",
        "* Evaluate\n",
        "* Predict the outcome\n",
        "\n",
        "# Types of Tensorflow\n",
        "* Unique label(name)\n",
        "* A dimension(shape)\n",
        "* Data type (dtype)\n",
        "\n",
        "Tensor types:\n",
        "tf.Variable\n",
        "tf.constant\n",
        "tf.placeholder\n",
        "tf.SparseTensor\n",
        "\n",
        "# Features of TensorFlow\n",
        "Works efficiently with multi-dimensional arrays\n",
        "Provides scalbility of computanion accross machines and large datasets\n",
        "Supports fast debugging and model building\n",
        "Provides tensorboard to visualize the model\n",
        "\n",
        "# Applications\n",
        " * FAce detection\n",
        " * Language translation\n",
        " * Fraud Detection\n",
        " * Video detection"
      ],
      "metadata": {
        "id": "QRd5E7UJbhpe"
      }
    },
    {
      "cell_type": "markdown",
      "source": [
        "# TensorFlow Toolkits Hierarchy\n",
        "* Estimators, tf.keras - High-level, object-oriented APi\n",
        "\n",
        "*Tf.layers, tf.losses, tf.metrics - Reusable libraries for model building \n",
        "\n",
        "*Low-level TF APi - Extensive control \n",
        "\n",
        "* CPu, Gpu, TPU - TF code \n",
        "\n",
        "# TF 2.0 Architecture\n",
        "## Building the model \n",
        "i. Read & pre-process Data tf.data, fearture columns  tf.keras, Premade Estimators\n",
        "\n",
        "ii.TensorFlow Hub - tf.keras, Premade Estimators\n",
        "\n",
        "iii.tf.keras, Premade estimators - Distribution Strategy\n",
        "\n",
        "iv. Distribution Strategy - Cpu,Gpu,Tpu - Saved model\n",
        "\n",
        "## \n",
        "i.  Tensorflow serving Cloud, on-prem\n",
        "ii. TensorFlow Lite Android, iOS, Rasberry Pi\n",
        "iii. Tf.js - Browser & Node Server\n",
        "iv. Other languages - C, Java,Go, C#, Rust,R..\n",
        "\n"
      ],
      "metadata": {
        "id": "7LvDAfmzL-VX"
      }
    },
    {
      "cell_type": "markdown",
      "source": [
        "# Functions in TF 2.0\n",
        "1. tf.function\n",
        "Constants are created using the fn constant\n",
        " \n",
        " syntax : constant(value, dtype=None\n",
        "e.g\n",
        "z = tf.constant(5.2, name = \"x\", dtype=tf.float32)\n",
        "ii. Declare a 2 by 3 tensor populated by ones\n",
        "e.g\n",
        "v = tf.variable(tf.ones([2,3], dtype = tf.float32))\n",
        "\n",
        "\n",
        "\n"
      ],
      "metadata": {
        "id": "Hf46TknDpC2A"
      }
    },
    {
      "cell_type": "code",
      "source": [],
      "metadata": {
        "id": "YBLF-OLUUVye"
      },
      "execution_count": null,
      "outputs": []
    },
    {
      "cell_type": "code",
      "execution_count": null,
      "metadata": {
        "id": "4JJJ5Dw_UPKZ"
      },
      "outputs": [],
      "source": []
    }
  ]
}