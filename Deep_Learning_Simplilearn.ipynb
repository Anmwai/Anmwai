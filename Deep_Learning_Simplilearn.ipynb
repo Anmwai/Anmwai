{
  "nbformat": 4,
  "nbformat_minor": 0,
  "metadata": {
    "colab": {
      "provenance": [],
      "authorship_tag": "ABX9TyMNIOREszBZ9aRhQ4PX2Hi4",
      "include_colab_link": true
    },
    "kernelspec": {
      "name": "python3",
      "display_name": "Python 3"
    },
    "language_info": {
      "name": "python"
    }
  },
  "cells": [
    {
      "cell_type": "markdown",
      "metadata": {
        "id": "view-in-github",
        "colab_type": "text"
      },
      "source": [
        "<a href=\"https://colab.research.google.com/github/Anmwai/Anmwai/blob/main/Deep_Learning_Simplilearn.ipynb\" target=\"_parent\"><img src=\"https://colab.research.google.com/assets/colab-badge.svg\" alt=\"Open In Colab\"/></a>"
      ]
    },
    {
      "cell_type": "markdown",
      "source": [
        "# Deep Learning\n",
        "It's a subset of ML which is a subset of AI.\n",
        "In deep learning, the features are picked out by the neural network without human intervension.\n",
        "\n",
        "Training a DL model requires:\n",
        "\n",
        "i. Data. DL is the most efficient way of dealing with unstructured data.\n",
        "\n",
        "ii. Computational power. Use GPUs or TPUs.\n",
        "\n",
        "iii. Training time. Deep learning takes weeks or even months to train.\n"
      ],
      "metadata": {
        "id": "irtslrOLHcPl"
      }
    },
    {
      "cell_type": "markdown",
      "source": [
        "# Definations\n",
        "\n",
        "AI- Ability of a machine to imitate intelligent human behavior.\n",
        "\n",
        "ML- Application of AI that allows a system to automatically learn and improve from experience.\n",
        "\n",
        "DL- application of ML that uses complex algorithms and deep neural nets to train a model.\n",
        "\n",
        "In ML, feature extraction is done manually by the DS while in DL, feature extraction is done by the neural nets.\n",
        "\n",
        "# Applications of DL\n",
        "\n",
        "i. Health Care- Cancer detection\n",
        "ii. Robot training\n",
        "iii. Autonomous Driving cars\n",
        "iv. Language translation\n",
        "v. Music composition\n",
        "vi. Colourization of images\n",
        "\n"
      ],
      "metadata": {
        "id": "vGfVmJqIKOeF"
      }
    },
    {
      "cell_type": "markdown",
      "source": [
        "# Neural Network\n",
        "Is is designed based on the neurons of the brain.\n",
        "\n",
        "Weights are added to the inputs and are fed to an transfer function(the mutiple linear regression) where the bias is added. the output goes to the activation function. \n",
        "\n",
        "The activation function takes the \"weighted sum of inputs plus the bias\" as the input to the function and decides whether it should be fired or not.\n",
        "\n",
        "## Types of activation functions\n",
        "i. Sigmoid function. Gives values of either 0 or 1\n",
        "ii. Threshold function. The values will be 0 up to a certain piont where 1 continues\n",
        "iii. RelU function. If inout is greater than 0, the output becomes greater than 0\n",
        "iv. Hyperbolic Tangent Function\n",
        "\n",
        "The activation fn bring in non-linearity.\n"
      ],
      "metadata": {
        "id": "NfrvJVl3Og1n"
      }
    },
    {
      "cell_type": "markdown",
      "source": [
        "# Sigmoid Function\n",
        "\n",
        "Q(x) = 1/(1+e^x)\n",
        "\n",
        "The fn models where we have to predict the probability as an output. It exists between 0 and 1.\n",
        "\n",
        "# Threshold fn\n",
        "Is based on activation fn. If Y is greater than a certain value, the fn is activated and fired else not.\n",
        "\n",
        "The output is 1 if x>=0 and 0 when x<0.\n",
        "\n",
        "# RelU fn \n",
        "Mostly used and gives an output of X if X is positive and ) otherwise.\n",
        "\n",
        "Q(x) = max(x,0)\n",
        "\n",
        "# Hyperbolic Tangent Function\n",
        "Is similar to sigmoid fn and is bound to range(-1,1)\n",
        "\n",
        "Q(x) = 1-e^-2x/(1+e^-2x)\n",
        "\n"
      ],
      "metadata": {
        "id": "ypZzpOZLSGkV"
      }
    },
    {
      "cell_type": "markdown",
      "source": [
        "## Forward priopagation\n",
        "The inputs are added to the weights. The weighted sumation is done and the bias is added.\n",
        "\n",
        "The model output is then compared to the actual output.\n",
        "\n",
        "## BAckpropagation\n",
        "after the NN is trained, backpropagation is used to improve the perfomance of the network. The cost fn reduces the eror rate.\n"
      ],
      "metadata": {
        "id": "YThUgCfTZ6SG"
      }
    },
    {
      "cell_type": "markdown",
      "source": [
        "# Cost fn Optimization using gradient descent\n",
        "\n",
        "The gradient descent is an optimization algorithm for finding the minimum of a fn.\n",
        "\n",
        "the cost fn is lowest at the lowest part of the graph.\n",
        "\n",
        "NN is basically finding the optimal values for weights and biases so that the accuracy is maximum.\n"
      ],
      "metadata": {
        "id": "6IL_zt8-bN6k"
      }
    },
    {
      "cell_type": "code",
      "execution_count": null,
      "metadata": {
        "id": "vjmKvbjhEq6g"
      },
      "outputs": [],
      "source": []
    }
  ]
}